{
 "cells": [
  {
   "cell_type": "code",
   "execution_count": 1,
   "metadata": {},
   "outputs": [
    {
     "name": "stdout",
     "output_type": "stream",
     "text": [
      "Requirement already satisfied: cassandra-driver in d:\\user\\anaconda3\\lib\\site-packages (3.29.0)\n",
      "Requirement already satisfied: geomet<0.3,>=0.1 in d:\\user\\anaconda3\\lib\\site-packages (from cassandra-driver) (0.2.1.post1)\n",
      "Requirement already satisfied: click in d:\\user\\anaconda3\\lib\\site-packages (from geomet<0.3,>=0.1->cassandra-driver) (7.0)\n",
      "Requirement already satisfied: six in d:\\user\\anaconda3\\lib\\site-packages (from geomet<0.3,>=0.1->cassandra-driver) (1.16.0)\n"
     ]
    }
   ],
   "source": [
    "!pip install cassandra-driver"
   ]
  },
  {
   "cell_type": "code",
   "execution_count": 2,
   "metadata": {},
   "outputs": [],
   "source": [
    "import cassandra"
   ]
  },
  {
   "cell_type": "code",
   "execution_count": 3,
   "metadata": {},
   "outputs": [
    {
     "name": "stdout",
     "output_type": "stream",
     "text": [
      "3.29.0\n"
     ]
    }
   ],
   "source": [
    "print(cassandra.__version__)"
   ]
  },
  {
   "cell_type": "code",
   "execution_count": 4,
   "metadata": {},
   "outputs": [],
   "source": [
    "from cassandra.cluster import Cluster\n",
    "cluster=Cluster()\n",
    "session_offline=cluster.connect()"
   ]
  },
  {
   "cell_type": "code",
   "execution_count": 5,
   "metadata": {},
   "outputs": [
    {
     "name": "stdout",
     "output_type": "stream",
     "text": [
      "3.11.10\n"
     ]
    }
   ],
   "source": [
    "row=session_offline.execute(\"select release_version from system.local\").one()\n",
    "if row:\n",
    "    print(row[0])\n",
    "else:\n",
    "    print(\"An error occured\")"
   ]
  },
  {
   "cell_type": "code",
   "execution_count": 6,
   "metadata": {},
   "outputs": [
    {
     "ename": "SyntaxException",
     "evalue": "<Error from server: code=2000 [Syntax error in CQL query] message=\"line 1:19 mismatched input '-' expecting K_WITH (CREATE KEYSPACE new[-]...)\">",
     "output_type": "error",
     "traceback": [
      "\u001b[1;31m---------------------------------------------------------------------------\u001b[0m",
      "\u001b[1;31mSyntaxException\u001b[0m                           Traceback (most recent call last)",
      "\u001b[1;32m<ipython-input-6-33422d636367>\u001b[0m in \u001b[0;36m<module>\u001b[1;34m\u001b[0m\n\u001b[0;32m      6\u001b[0m \u001b[1;31m#Create KEYSPACE kul-cas with replication={'class':'SimpleStrategy','replication_factor':1} AND durable_writes='true';\u001b[0m\u001b[1;33m\u001b[0m\u001b[1;33m\u001b[0m\u001b[1;33m\u001b[0m\u001b[0m\n\u001b[0;32m      7\u001b[0m \u001b[0msession\u001b[0m \u001b[1;33m=\u001b[0m \u001b[0mcluster\u001b[0m\u001b[1;33m.\u001b[0m\u001b[0mconnect\u001b[0m\u001b[1;33m(\u001b[0m\u001b[1;33m)\u001b[0m\u001b[1;33m\u001b[0m\u001b[1;33m\u001b[0m\u001b[0m\n\u001b[1;32m----> 8\u001b[1;33m \u001b[0mrow\u001b[0m \u001b[1;33m=\u001b[0m \u001b[0msession\u001b[0m\u001b[1;33m.\u001b[0m\u001b[0mexecute\u001b[0m\u001b[1;33m(\u001b[0m\u001b[1;34m\"CREATE KEYSPACE new-cassandra WITH replication = {'class': 'SimpleStrategy', 'replication_factor' : 4};\"\u001b[0m\u001b[1;33m)\u001b[0m\u001b[1;33m\u001b[0m\u001b[1;33m\u001b[0m\u001b[0m\n\u001b[0m",
      "\u001b[1;32mD:\\User\\Anaconda3\\lib\\site-packages\\cassandra\\cluster.cp38-win_amd64.pyd\u001b[0m in \u001b[0;36mcassandra.cluster.Session.execute\u001b[1;34m()\u001b[0m\n",
      "\u001b[1;32mD:\\User\\Anaconda3\\lib\\site-packages\\cassandra\\cluster.cp38-win_amd64.pyd\u001b[0m in \u001b[0;36mcassandra.cluster.ResponseFuture.result\u001b[1;34m()\u001b[0m\n",
      "\u001b[1;31mSyntaxException\u001b[0m: <Error from server: code=2000 [Syntax error in CQL query] message=\"line 1:19 mismatched input '-' expecting K_WITH (CREATE KEYSPACE new[-]...)\">"
     ]
    }
   ],
   "source": [
    "\"\"\"\n",
    "Creating key space\n",
    "create KEYSPACE kul with replication={'class':'SimpleStrategy','replication_factor':1} AND durable_writes='true';\n",
    "\n",
    "\"\"\"\n",
    "#Create KEYSPACE kul-cas with replication={'class':'SimpleStrategy','replication_factor':1} AND durable_writes='true';\n",
    "session = cluster.connect()\n",
    "row = session.execute(\"CREATE KEYSPACE new-cassandra WITH replication = {'class': 'SimpleStrategy', 'replication_factor' : 4};\")\n"
   ]
  },
  {
   "cell_type": "code",
   "execution_count": 13,
   "metadata": {},
   "outputs": [
    {
     "name": "stdout",
     "output_type": "stream",
     "text": [
      "None\n"
     ]
    }
   ],
   "source": [
    "from cassandra.cluster import Cluster\n",
    "cluster=Cluster()\n",
    "session_offline=cluster.connect()\n",
    "#row=session_offline.execute(\"use kul\").one()\n",
    "row = session.execute(\"CREATE KEYSPACE kulcassandra WITH replication = {'class': 'SimpleStrategy', 'replication_factor' : 4}\").one()\n",
    "print(row)"
   ]
  },
  {
   "cell_type": "code",
   "execution_count": 14,
   "metadata": {},
   "outputs": [
    {
     "name": "stdout",
     "output_type": "stream",
     "text": [
      "None\n"
     ]
    }
   ],
   "source": [
    "from cassandra.cluster import Cluster\n",
    "cluster=Cluster()\n",
    "session_offline=cluster.connect()\n",
    "row=session_offline.execute(\"use kulcassandra\").one()\n",
    "print(row)"
   ]
  },
  {
   "cell_type": "code",
   "execution_count": 18,
   "metadata": {},
   "outputs": [
    {
     "ename": "SyntaxException",
     "evalue": "<Error from server: code=2000 [Syntax error in CQL query] message=\"line 1:0 no viable alternative at input 'describe' ([describe]...)\">",
     "output_type": "error",
     "traceback": [
      "\u001b[1;31m---------------------------------------------------------------------------\u001b[0m",
      "\u001b[1;31mSyntaxException\u001b[0m                           Traceback (most recent call last)",
      "\u001b[1;32m<ipython-input-18-da8f98033106>\u001b[0m in \u001b[0;36m<module>\u001b[1;34m\u001b[0m\n\u001b[1;32m----> 1\u001b[1;33m \u001b[0mrow\u001b[0m\u001b[1;33m=\u001b[0m\u001b[0msession_offline\u001b[0m\u001b[1;33m.\u001b[0m\u001b[0mexecute\u001b[0m\u001b[1;33m(\u001b[0m\u001b[1;34m\"describe keyspace kuscassandra\"\u001b[0m\u001b[1;33m)\u001b[0m\u001b[1;33m.\u001b[0m\u001b[0mone\u001b[0m\u001b[1;33m(\u001b[0m\u001b[1;33m)\u001b[0m\u001b[1;33m\u001b[0m\u001b[1;33m\u001b[0m\u001b[0m\n\u001b[0m\u001b[0;32m      2\u001b[0m \u001b[0mprint\u001b[0m\u001b[1;33m(\u001b[0m\u001b[0mrow\u001b[0m\u001b[1;33m)\u001b[0m\u001b[1;33m\u001b[0m\u001b[1;33m\u001b[0m\u001b[0m\n",
      "\u001b[1;32mD:\\User\\Anaconda3\\lib\\site-packages\\cassandra\\cluster.cp38-win_amd64.pyd\u001b[0m in \u001b[0;36mcassandra.cluster.Session.execute\u001b[1;34m()\u001b[0m\n",
      "\u001b[1;32mD:\\User\\Anaconda3\\lib\\site-packages\\cassandra\\cluster.cp38-win_amd64.pyd\u001b[0m in \u001b[0;36mcassandra.cluster.ResponseFuture.result\u001b[1;34m()\u001b[0m\n",
      "\u001b[1;31mSyntaxException\u001b[0m: <Error from server: code=2000 [Syntax error in CQL query] message=\"line 1:0 no viable alternative at input 'describe' ([describe]...)\">"
     ]
    }
   ],
   "source": [
    "row=session_offline.execute(\"describe keyspace kuscassandra\").one()\n",
    "print(row)"
   ]
  },
  {
   "cell_type": "code",
   "execution_count": 19,
   "metadata": {},
   "outputs": [
    {
     "name": "stdout",
     "output_type": "stream",
     "text": [
      "<cassandra.cluster.ResultSet object at 0x000001B60B3779A0>\n"
     ]
    }
   ],
   "source": [
    "from cassandra.cluster import Cluster\n",
    "cluster=Cluster()\n",
    "session_offline=cluster.connect()\n",
    "row=session.execute(\"CREATE TABLE kulcassandra.Members(id int PRIMARY KEY,name text,age int,height int);\")\n",
    "#row=session_offline.execute(\"describe keyspace kuscassandra\").one()\n",
    "print(row)"
   ]
  },
  {
   "cell_type": "code",
   "execution_count": 21,
   "metadata": {},
   "outputs": [],
   "source": [
    "row=session.execute(\"insert into kulcassandra.members (id, age, height, name) values(2,567,7,'kulkirti');\")\n",
    "#row=session.execute(\"INSERT INTO Members(id,name,age,height) VALUES (1,'mohit',25,160);\")"
   ]
  },
  {
   "cell_type": "code",
   "execution_count": 23,
   "metadata": {},
   "outputs": [
    {
     "name": "stdout",
     "output_type": "stream",
     "text": [
      "1\n",
      "567\n",
      "7\n",
      "kul\n"
     ]
    }
   ],
   "source": [
    "row=session.execute(\"select * from kulcassandra.members\").one()\n",
    "for i in row:\n",
    "    print(i)"
   ]
  },
  {
   "cell_type": "code",
   "execution_count": 24,
   "metadata": {},
   "outputs": [
    {
     "name": "stdout",
     "output_type": "stream",
     "text": [
      "Keyspace created Succesfully !!\n"
     ]
    }
   ],
   "source": [
    "from cassandra.cluster import Cluster\n",
    "cluster=Cluster()\n",
    "session=cluster.connect()\n",
    "# Command to create keyspace in Cassandra\n",
    "try:\n",
    "    query=\"create keyspace employeemanagement with replication={'class':'SimpleStrategy', 'replication_factor':3}\"\n",
    "    session.execute(query)\n",
    "    print(\"Keyspace created Succesfully !!\")\n",
    "except Exception as err:\n",
    "    print(\"Exception occured while creating keysapce:\",err)\n",
    "\n",
    "    "
   ]
  },
  {
   "cell_type": "code",
   "execution_count": 26,
   "metadata": {},
   "outputs": [
    {
     "name": "stdout",
     "output_type": "stream",
     "text": [
      "Inside the keysapce\n"
     ]
    }
   ],
   "source": [
    "# Command to use keyspace\n",
    "try:\n",
    "    query=\"use employeemanagement\"\n",
    "    session.execute(query)\n",
    "    print(\"Inside the keysapce\")\n",
    "except Exception as err:\n",
    "    print(\"Exception occured while using keyspace: \", err)"
   ]
  },
  {
   "cell_type": "code",
   "execution_count": 27,
   "metadata": {},
   "outputs": [
    {
     "name": "stdout",
     "output_type": "stream",
     "text": [
      "Exception occured while  altering keyspace: Error from server: code=2200 [Invalid query] message=\"Unknown keyspace empmanagement\"\n"
     ]
    }
   ],
   "source": [
    "#Command to alter keysapce in cassandra\n",
    "from cassandra.cluster import Cluster\n",
    "cluster=Cluster()\n",
    "session=cluster.connect()\n",
    "try:\n",
    "    query=\"alter keyspace empmanagement with replication ={'class':'SimpleStrategy','replication_factor':2}\"\n",
    "    session.execute(query)\n",
    "    print(\"Keyspace altered successfully !!!\")\n",
    "except Exception as err:\n",
    "    print(\"Exception occured while  altering keyspace:\", err)"
   ]
  },
  {
   "cell_type": "code",
   "execution_count": 28,
   "metadata": {},
   "outputs": [
    {
     "name": "stdout",
     "output_type": "stream",
     "text": [
      "Keyspace altered successfully !!!\n"
     ]
    }
   ],
   "source": [
    "#Command to alter keysapce in cassandra\n",
    "try:\n",
    "    query=\"alter keyspace employeemanagement with replication ={'class':'SimpleStrategy','replication_factor':2}\"\n",
    "    session.execute(query)\n",
    "    print(\"Keyspace altered successfully !!!\")\n",
    "except Exception as err:\n",
    "    print(\"Exception occured while  altering keyspace:\", err)"
   ]
  },
  {
   "cell_type": "code",
   "execution_count": null,
   "metadata": {},
   "outputs": [],
   "source": [
    "###Droping the keyspace\n"
   ]
  },
  {
   "cell_type": "code",
   "execution_count": 32,
   "metadata": {},
   "outputs": [
    {
     "name": "stdout",
     "output_type": "stream",
     "text": [
      "Inside the keyspace\n"
     ]
    }
   ],
   "source": [
    "#Command to use keyspace\n",
    "from cassandra.cluster import Cluster\n",
    "cluster=Cluster()\n",
    "session=cluster.connect()\n",
    "try:\n",
    "    query=\"use employeemanagement\"\n",
    "    session.execute(query)\n",
    "    print(\"Inside the keyspace\")\n",
    "except Exception as err:\n",
    "    print(\"Exception occured while using Keyspace: \", err)"
   ]
  },
  {
   "cell_type": "code",
   "execution_count": 37,
   "metadata": {},
   "outputs": [
    {
     "name": "stdout",
     "output_type": "stream",
     "text": [
      "Table created inside the keyspace\n"
     ]
    }
   ],
   "source": [
    "##Command to create a table inside a keyspace\n",
    "try:\n",
    "    query= \"\"\"create table emp(\n",
    "              emp_id int,\n",
    "              emp_name varchar,\n",
    "              emp_salary int,\n",
    "              emp_dept varchar,\n",
    "              emp_email varchar,\n",
    "              emp_phone varchar,\n",
    "              primary key(emp_id,emp_dept)\n",
    "            )\n",
    "        \"\"\"\n",
    "    session.execute(query)\n",
    "    print(\"Table created inside the keyspace\")\n",
    "except Exception as err:\n",
    "    print(\"Exception occured while creating the table :\",err)\n",
    "    "
   ]
  },
  {
   "cell_type": "code",
   "execution_count": 36,
   "metadata": {},
   "outputs": [
    {
     "name": "stdout",
     "output_type": "stream",
     "text": [
      "Table created inside the keyspace\n"
     ]
    }
   ],
   "source": [
    "try:\n",
    "    query = \"\"\"create table employee(\n",
    "                emp_id int,\n",
    "                emp_name varchar,\n",
    "                emp_salary int,\n",
    "                emp_dept varchar,\n",
    "                emp_email varchar,\n",
    "                emp_phone varchar,\n",
    "                primary key (emp_id, emp_dept)\n",
    "              )\n",
    "            \"\"\"\n",
    "    session.execute(query)\n",
    "    print(\"Table created inside the keyspace\")\n",
    "except Exception as err:\n",
    "    print(\"Exception Occured while creating the table : \",err)"
   ]
  },
  {
   "cell_type": "code",
   "execution_count": 39,
   "metadata": {},
   "outputs": [
    {
     "name": "stdout",
     "output_type": "stream",
     "text": [
      "Table alterd successfully\n"
     ]
    }
   ],
   "source": [
    "# Alter the table in cassandra\n",
    "try:\n",
    "    query=\"alter table employee drop emp_email \"\n",
    "    session.execute(query)\n",
    "    print(\"Table alterd successfully\")\n",
    "except Exception as err:\n",
    "    print(\"Exception occured during altering the table name :\", err)"
   ]
  },
  {
   "cell_type": "code",
   "execution_count": 40,
   "metadata": {},
   "outputs": [
    {
     "name": "stdout",
     "output_type": "stream",
     "text": [
      "Table added successfully\n"
     ]
    }
   ],
   "source": [
    "## add the new table\n",
    "try:\n",
    "    query=\"alter table employee add emp_email text\"\n",
    "    session.execute(query)\n",
    "    print(\"column added successfully\")\n",
    "except Exception as err:\n",
    "    print(\"Exception occured during adding the column :\", err)"
   ]
  },
  {
   "cell_type": "code",
   "execution_count": null,
   "metadata": {},
   "outputs": [],
   "source": [
    "## drop table in cassandra\n",
    "try:\n",
    "    query=\"drop table employee \"\n",
    "    session.execute(query)\n",
    "    print(\"drop table successfully\")\n",
    "except Exception as err:\n",
    "    print(\"Exception occured during droping the table :\", err)"
   ]
  },
  {
   "cell_type": "code",
   "execution_count": 41,
   "metadata": {},
   "outputs": [
    {
     "name": "stdout",
     "output_type": "stream",
     "text": [
      "Record inserted successfully !!\n"
     ]
    }
   ],
   "source": [
    "# Insert data into cassandra table\n",
    "try:\n",
    "    query = \"insert into employee(emp_id, emp_name, emp_salary, emp_dept, emp_email, emp_phone) values(1, 'Shashank', 10000, 'Software', 'abc.gmail.com','+49-1768467474')\"\n",
    "    session.execute(query)\n",
    "    print(\"Record inserted successfully !!\")\n",
    "except Exception as err:\n",
    "    print(\"Exception Occured while inserting the data into table: \",err)"
   ]
  },
  {
   "cell_type": "code",
   "execution_count": 42,
   "metadata": {},
   "outputs": [
    {
     "name": "stdout",
     "output_type": "stream",
     "text": [
      "Record inserted successfully !!\n"
     ]
    }
   ],
   "source": [
    "# Insert data into cassandra table\n",
    "try:\n",
    "    query = \"insert into employee(emp_id, emp_name, emp_salary, emp_dept, emp_email, emp_phone) values(2, 'Rahul', 20000, 'IT', 'xyx.gmail.com','+91 908467474')\"\n",
    "    session.execute(query)\n",
    "    print(\"Record inserted successfully !!\")\n",
    "except Exception as err:\n",
    "    print(\"Exception Occured while inserting the data into table: \",err)"
   ]
  },
  {
   "cell_type": "code",
   "execution_count": 43,
   "metadata": {},
   "outputs": [
    {
     "name": "stdout",
     "output_type": "stream",
     "text": [
      "Record inserted successfully !!\n"
     ]
    }
   ],
   "source": [
    "# Insert data into cassandra table\n",
    "try:\n",
    "    query = \"insert into employee(emp_id, emp_name, emp_salary, emp_dept, emp_email, emp_phone) values(3, 'Sunny', 22000, 'HR', 'klm.gmail.com','+91 800067474')\"\n",
    "    session.execute(query)\n",
    "    print(\"Record inserted successfully !!\")\n",
    "except Exception as err:\n",
    "    print(\"Exception Occured while inserting the data into table: \",err)"
   ]
  },
  {
   "cell_type": "code",
   "execution_count": 44,
   "metadata": {},
   "outputs": [
    {
     "name": "stdout",
     "output_type": "stream",
     "text": [
      "Record inserted successfully !!\n"
     ]
    }
   ],
   "source": [
    "# Insert data into cassandra table\n",
    "try:\n",
    "    query = \"insert into employee(emp_id, emp_name, emp_salary, emp_dept, emp_email, emp_phone) values(4, 'Vishal', 30000, 'Software', 'mno.gmail.com','+91 600467474')\"\n",
    "    session.execute(query)\n",
    "    print(\"Record inserted successfully !!\")\n",
    "except Exception as err:\n",
    "    print(\"Exception Occured while inserting the data into table: \",err)"
   ]
  },
  {
   "cell_type": "code",
   "execution_count": 45,
   "metadata": {},
   "outputs": [
    {
     "name": "stdout",
     "output_type": "stream",
     "text": [
      "Row(emp_id=1, emp_dept='Software', emp_email='abc.gmail.com', emp_name='Shashank', emp_phone='+49-1768467474', emp_salary=10000)\n",
      "Row(emp_id=2, emp_dept='IT', emp_email='xyx.gmail.com', emp_name='Rahul', emp_phone='+91 908467474', emp_salary=20000)\n",
      "Row(emp_id=4, emp_dept='Software', emp_email='mno.gmail.com', emp_name='Vishal', emp_phone='+91 600467474', emp_salary=30000)\n",
      "Row(emp_id=3, emp_dept='HR', emp_email='klm.gmail.com', emp_name='Sunny', emp_phone='+91 800067474', emp_salary=22000)\n"
     ]
    }
   ],
   "source": [
    "# Select query on cassandra table\n",
    "try:\n",
    "    query = \"select * from employee\"\n",
    "    result = session.execute(query)\n",
    "    for row in result:\n",
    "        print(row)\n",
    "except Exception as err:\n",
    "    print(\"Exception Occured while selecting the data from table: \",err)"
   ]
  },
  {
   "cell_type": "code",
   "execution_count": 46,
   "metadata": {},
   "outputs": [
    {
     "name": "stdout",
     "output_type": "stream",
     "text": [
      "Row(emp_id=1, emp_name='Shashank')\n",
      "Row(emp_id=2, emp_name='Rahul')\n",
      "Row(emp_id=4, emp_name='Vishal')\n",
      "Row(emp_id=3, emp_name='Sunny')\n"
     ]
    }
   ],
   "source": [
    "# Select query for specific columns in cassandra table\n",
    "try:\n",
    "    query = \"select emp_id, emp_name from employee\"\n",
    "    result = session.execute(query)\n",
    "    for row in result:\n",
    "        print(row)\n",
    "except Exception as err:\n",
    "    print(\"Exception Occured while selecting the data from table: \",err)"
   ]
  },
  {
   "cell_type": "code",
   "execution_count": 48,
   "metadata": {},
   "outputs": [
    {
     "name": "stdout",
     "output_type": "stream",
     "text": [
      "Emp ID :  1 Emp Name :  Shashank\n",
      "Emp ID :  2 Emp Name :  Rahul\n",
      "Emp ID :  4 Emp Name :  Vishal\n",
      "Emp ID :  3 Emp Name :  Sunny\n"
     ]
    }
   ],
   "source": [
    "# Select query for specific columns in cassandra table and how to access from Row object\n",
    "try:\n",
    "    query = \"select emp_id, emp_name from employee\"\n",
    "    result = session.execute(query)\n",
    "    # option 1\n",
    "    for row in result:\n",
    "        print(\"Emp ID : \", row[0],\"Emp Name : \", row[1])\n",
    "        #print(\"Emp Name : \", row[1])\n",
    "except Exception as err:\n",
    "    print(\"Exception Occured while selecting the data from table: \",err)"
   ]
  },
  {
   "cell_type": "code",
   "execution_count": 51,
   "metadata": {},
   "outputs": [
    {
     "name": "stdout",
     "output_type": "stream",
     "text": [
      "Row(emp_id=1, emp_dept='Software', emp_email='abc.gmail.com', emp_name='Shashank', emp_phone='+49-1768467474', emp_salary=10000)\n",
      "Select command executed successfully!!\n"
     ]
    }
   ],
   "source": [
    "##Select query on casandra table\n",
    "try:\n",
    "    query=\"select * from employee\"\n",
    "    result=session.execute(query)\n",
    "    row=result.one()\n",
    "    print(row)\n",
    "    print(\"Select command executed successfully!!\")\n",
    "except Exception as err:\n",
    "    print(\"Exception occured while selecting the data from table: \", err)"
   ]
  },
  {
   "cell_type": "code",
   "execution_count": 55,
   "metadata": {},
   "outputs": [
    {
     "name": "stdout",
     "output_type": "stream",
     "text": [
      "Row(emp_id=1, emp_dept='Software', emp_email='abc.gmail.com', emp_name='Shashank', emp_phone='+49-1768467474', emp_salary=10000)\n",
      "1 Software abc.gmail.com Shashank +49-1768467474\n",
      "Row(emp_id=2, emp_dept='IT', emp_email='xyx.gmail.com', emp_name='Rahul', emp_phone='+91 908467474', emp_salary=20000)\n",
      "2 IT xyx.gmail.com Rahul +91 908467474\n",
      "Row(emp_id=4, emp_dept='Software', emp_email='mno.gmail.com', emp_name='Vishal', emp_phone='+91 600467474', emp_salary=30000)\n",
      "4 Software mno.gmail.com Vishal +91 600467474\n",
      "Row(emp_id=3, emp_dept='HR', emp_email='klm.gmail.com', emp_name='Sunny', emp_phone='+91 800067474', emp_salary=22000)\n",
      "3 HR klm.gmail.com Sunny +91 800067474\n"
     ]
    }
   ],
   "source": [
    "try:\n",
    "    query=\"select * from employee\"\n",
    "    result=session.execute(query)\n",
    "    for row in result:\n",
    "        print(row)\n",
    "        \"\"\"\n",
    "        check individual element\n",
    "        \"\"\"\n",
    "        print(row[0],row[1],row[2],row[3],row[4])\n",
    "except Exception as e:\n",
    "    print(\"error occured while selecting data from the table\", err)"
   ]
  },
  {
   "cell_type": "code",
   "execution_count": 57,
   "metadata": {},
   "outputs": [
    {
     "name": "stdout",
     "output_type": "stream",
     "text": [
      "The number of Row in the table:  Row(count=4)\n",
      "4\n"
     ]
    }
   ],
   "source": [
    "###write query total number of employee\n",
    "try:\n",
    "    query=\"select count(*) from employee\"\n",
    "    result=session.execute(query)\n",
    "    row=result.one()\n",
    "    print(\"The number of Row in the table: \",row)\n",
    "    print(row[0])\n",
    "except Exception as e:\n",
    "    print(\"Exception occured during counting the numbur of Row:\", err)"
   ]
  },
  {
   "cell_type": "code",
   "execution_count": 58,
   "metadata": {},
   "outputs": [
    {
     "name": "stdout",
     "output_type": "stream",
     "text": [
      "Row(system_max_emp_salary=30000)\n",
      "30000\n"
     ]
    }
   ],
   "source": [
    "#Write a query to find the maxuímum salary from the table\n",
    "try:\n",
    "    query=\"select max(emp_salary) from employee\"\n",
    "    result=session.execute(query)\n",
    "    row=result.one()\n",
    "    print(row)\n",
    "    print(row[0])\n",
    "except Exception as err:\n",
    "    print(err)"
   ]
  },
  {
   "cell_type": "code",
   "execution_count": 59,
   "metadata": {},
   "outputs": [
    {
     "name": "stdout",
     "output_type": "stream",
     "text": [
      "Exception occured while selecting the data from the table:  Error from server: code=2200 [Invalid query] message=\"Cannot execute this query as it might involve data filtering and thus may have unpredictable performance. If you want to execute this query despite the performance unpredictability, use ALLOW FILTERING\"\n"
     ]
    }
   ],
   "source": [
    "# write a query to filter data from the cassandra table\n",
    "# Write a query to filter data from cassandra table or how to use where clause\n",
    "# Rules for where clause - It can be used effectively with high performance for given below type of columns\n",
    "# 1.) Partition Key (Single or Composite)\n",
    "                   #OR\n",
    "# 2.) if Cluster column  used in where clause then it should be with Partition Key\n",
    "                   #OR\n",
    "# 3.) A column on which we have applied the index\n",
    "                   #OR\n",
    "# 4.) A column which is not part of partition key or index column or clustering column then we can use where clause but we have to\n",
    "# use keyword ALLOW FILTERING - it will be a super slow performance when data volume is very high\n",
    "try:\n",
    "    query=\"select * from employee where emp_name='Shashank'\"\n",
    "    result=session.execute(query)\n",
    "    row=result.one()\n",
    "    print(row)\n",
    "except Exception as err:\n",
    "    print(\"Exception occured while selecting the data from the table: \", err)"
   ]
  },
  {
   "cell_type": "code",
   "execution_count": 61,
   "metadata": {},
   "outputs": [
    {
     "name": "stdout",
     "output_type": "stream",
     "text": [
      "Information about the employee:  Row(emp_id=1, emp_dept='Software', emp_email='abc.gmail.com', emp_name='Shashank', emp_phone='+49-1768467474', emp_salary=10000)\n"
     ]
    }
   ],
   "source": [
    "try:\n",
    "    query=\"select * from employee where emp_name='Shashank' allow filtering\"\n",
    "    result=session.execute(query)\n",
    "    row=result.one()\n",
    "    print(\"Information about the employee: \", row)\n",
    "except Exception as err:\n",
    "    print(\"Exception occured while selecting the data from the table: \", err)"
   ]
  },
  {
   "cell_type": "code",
   "execution_count": 62,
   "metadata": {},
   "outputs": [
    {
     "name": "stdout",
     "output_type": "stream",
     "text": [
      "Row(emp_id=2, emp_dept='IT', emp_email='xyx.gmail.com', emp_name='Rahul', emp_phone='+91 908467474', emp_salary=20000)\n"
     ]
    }
   ],
   "source": [
    "### where clause for Partition key key only\n",
    "try:\n",
    "    query=\"select * from employee where emp_id=2\"\n",
    "    result=session.execute(query)\n",
    "    row=result.one()\n",
    "    print(row)\n",
    "except Exception as err:\n",
    "    print(err)\n"
   ]
  },
  {
   "cell_type": "code",
   "execution_count": 63,
   "metadata": {},
   "outputs": [
    {
     "name": "stdout",
     "output_type": "stream",
     "text": [
      "Error from server: code=2200 [Invalid query] message=\"Cannot execute this query as it might involve data filtering and thus may have unpredictable performance. If you want to execute this query despite the performance unpredictability, use ALLOW FILTERING\"\n"
     ]
    }
   ],
   "source": [
    "## where clause for partition key only\n",
    "try:\n",
    "    query=\"select * from employee where emp_dept='software'\"\n",
    "    result=session.execute(query)\n",
    "    row=result.one()\n",
    "    print(row)\n",
    "except Exception as err:\n",
    "    print(err)"
   ]
  },
  {
   "cell_type": "code",
   "execution_count": 68,
   "metadata": {},
   "outputs": [
    {
     "name": "stdout",
     "output_type": "stream",
     "text": [
      "Row(emp_id=2, emp_dept='IT', emp_email='xyx.gmail.com', emp_name='Rahul', emp_phone='+91 908467474', emp_salary=20000)\n"
     ]
    }
   ],
   "source": [
    "try:\n",
    "    query=\"select * from employee where emp_dept='IT' and emp_id=2\"\n",
    "    result=session.execute(query)\n",
    "    row=result.one()\n",
    "    print(row)\n",
    "except Exception as err:\n",
    "    print(err)\n",
    "    "
   ]
  },
  {
   "cell_type": "code",
   "execution_count": null,
   "metadata": {},
   "outputs": [],
   "source": [
    "# we have another composit partition key\n",
    "# We have another composite partition key\n",
    "\n",
    "priamry key ( (employeeid, fname) , dept )\n",
    "\n",
    "select * from employee where employeeid = 'x' and dept = 'software' and fname = 'shashank'  # Wrong query\n",
    "\n",
    "select * from employee where dept = 'software' and employeeid = 'x' and fname = 'shashank'   # Correct "
   ]
  },
  {
   "cell_type": "code",
   "execution_count": 69,
   "metadata": {},
   "outputs": [
    {
     "name": "stdout",
     "output_type": "stream",
     "text": [
      "Row(sum_salary=10000)\n"
     ]
    }
   ],
   "source": [
    "###Group By\n",
    "try:\n",
    "    query=\"select sum(emp_salary) as sum_salary from employee group by emp_id\"\n",
    "    result=session.execute(query)\n",
    "    row=result.one()\n",
    "    print(row)\n",
    "except Exception as err:\n",
    "    print(err)\n",
    "    "
   ]
  },
  {
   "cell_type": "code",
   "execution_count": 70,
   "metadata": {},
   "outputs": [
    {
     "name": "stdout",
     "output_type": "stream",
     "text": [
      "Error occured : Error from server: code=2200 [Invalid query] message=\"Group by is currently only supported on the columns of the PRIMARY KEY, got emp_name\"\n"
     ]
    }
   ],
   "source": [
    "\n",
    "# Group by in cassandra  -  Allowed for all columns which are part of Primary Key\n",
    "# Follow given below rules\n",
    "# Rule - 1 : Use only partition key in the group by\n",
    "              #OR\n",
    "# Rule - 2 : if Cluster key column is used then follow the actual declared sequence in the primary key\n",
    "try:\n",
    "    query=\"select sum(emp_salary) as sum_salary from employee group by emp_name\"\n",
    "    result=session.execute(query)\n",
    "    row=result.one()\n",
    "    print(row)\n",
    "except Exception as err:\n",
    "    print(\"Error occured :\",err)\n",
    "    "
   ]
  },
  {
   "cell_type": "code",
   "execution_count": 71,
   "metadata": {},
   "outputs": [
    {
     "name": "stdout",
     "output_type": "stream",
     "text": [
      "Error occured : Error from server: code=2200 [Invalid query] message=\"Group by currently only support groups of columns following their declared order in the PRIMARY KEY\"\n"
     ]
    }
   ],
   "source": [
    "# Group by in cassandra \n",
    "# Rule - 2 : if Cluster key column is used then follow the actual declared sequence in the primary key\n",
    "try:\n",
    "    query=\"select sum(emp_salary) as sum_salary from employee group by emp_dept\"\n",
    "    result=session.execute(query)\n",
    "    row=result.one()\n",
    "    print(row)\n",
    "except Exception as err:\n",
    "    print(\"Error occured :\",err)"
   ]
  },
  {
   "cell_type": "code",
   "execution_count": null,
   "metadata": {},
   "outputs": [],
   "source": []
  }
 ],
 "metadata": {
  "kernelspec": {
   "display_name": "Python 3",
   "language": "python",
   "name": "python3"
  },
  "language_info": {
   "codemirror_mode": {
    "name": "ipython",
    "version": 3
   },
   "file_extension": ".py",
   "mimetype": "text/x-python",
   "name": "python",
   "nbconvert_exporter": "python",
   "pygments_lexer": "ipython3",
   "version": "3.8.5"
  }
 },
 "nbformat": 4,
 "nbformat_minor": 4
}
